{
 "cells": [
  {
   "cell_type": "markdown",
   "id": "1776cca9-eae7-4734-9037-ffba02991bcb",
   "metadata": {},
   "source": [
    "# Data Science Tools and Ecosystem"
   ]
  },
  {
   "cell_type": "markdown",
   "id": "6730d1c3-b4a7-405d-b5da-dcf5eed90e53",
   "metadata": {},
   "source": [
    "In this notebook, Data Science Tools and Ecosystem are summarized."
   ]
  },
  {
   "cell_type": "markdown",
   "id": "72846c65-272a-40a5-a0e6-61614a57a2b9",
   "metadata": {},
   "source": [
    "__Objectives:__\n",
    "* List popular languages for Data Science\n",
    "* List commonly used libraries used by Data Scientists\n",
    "* List popular Data Science tools\n",
    "* Apply comments to code\n",
    "* Use Arithmetic expressions"
   ]
  },
  {
   "cell_type": "markdown",
   "id": "0fb892a2-f157-4255-b2b3-efc87769ae39",
   "metadata": {},
   "source": [
    "Some of the popular languages that Data Scientists use are:\n",
    "1. Python\n",
    "2. R\n",
    "3. SQL"
   ]
  },
  {
   "cell_type": "markdown",
   "id": "f5d041d7-0b65-4075-ad57-fb3997f46067",
   "metadata": {},
   "source": [
    "Some of the commonly used libraries used by Data Scientists include:\n",
    "1. Pandas\n",
    "2. NumPy\n",
    "3. matplotlib"
   ]
  },
  {
   "cell_type": "markdown",
   "id": "e5b1eb63-3746-4221-81c9-bfb5fc990e7f",
   "metadata": {},
   "source": [
    "|Data Science Tools|\n",
    "|-------|\n",
    "|JupyterLabs|\n",
    "|Git|\n",
    "|RStudio|"
   ]
  },
  {
   "cell_type": "markdown",
   "id": "48741418-c391-494c-9c0c-bac38062223d",
   "metadata": {},
   "source": [
    "### Below are a few examples of evaluating arithmetic expressions in Python"
   ]
  },
  {
   "cell_type": "code",
   "execution_count": 2,
   "id": "d24c46a1-43f4-4ece-9614-8c6c60cfba59",
   "metadata": {},
   "outputs": [
    {
     "data": {
      "text/plain": [
       "17"
      ]
     },
     "execution_count": 2,
     "metadata": {},
     "output_type": "execute_result"
    }
   ],
   "source": [
    "# This a simple arithmetic expression to mutiply then add integers\n",
    "(3*4)+5"
   ]
  },
  {
   "cell_type": "code",
   "execution_count": 11,
   "id": "d846a66e-8a70-4217-a8c3-35376b7e043a",
   "metadata": {},
   "outputs": [
    {
     "name": "stdout",
     "output_type": "stream",
     "text": [
      "200 minutes is : 3.33 hours\n"
     ]
    }
   ],
   "source": [
    "# This will convert 200 minutes to hours by diving by 60\n",
    "x=round(200/60,2)\n",
    "print (\"200 minutes is : \" + str(x) + \" hours\")"
   ]
  },
  {
   "cell_type": "markdown",
   "id": "16419e3a-6982-4256-ba52-cc0079c42f57",
   "metadata": {},
   "source": [
    "## Author\n",
    "Vittorio Del Percio"
   ]
  },
  {
   "cell_type": "code",
   "execution_count": null,
   "id": "36c9635f-eddd-40f9-90a2-deb2b83bdce1",
   "metadata": {},
   "outputs": [],
   "source": []
  }
 ],
 "metadata": {
  "kernelspec": {
   "display_name": "Python 3 (ipykernel)",
   "language": "python",
   "name": "python3"
  },
  "language_info": {
   "codemirror_mode": {
    "name": "ipython",
    "version": 3
   },
   "file_extension": ".py",
   "mimetype": "text/x-python",
   "name": "python",
   "nbconvert_exporter": "python",
   "pygments_lexer": "ipython3",
   "version": "3.12.8"
  }
 },
 "nbformat": 4,
 "nbformat_minor": 5
}
